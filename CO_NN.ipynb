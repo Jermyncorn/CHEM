{
 "cells": [
  {
   "cell_type": "code",
   "execution_count": 1,
   "metadata": {},
   "outputs": [
    {
     "name": "stdout",
     "output_type": "stream",
     "text": [
      "/Users/jmbowma/Desktop/CO copy\r\n"
     ]
    }
   ],
   "source": [
    "import pandas as pd\n",
    "import numpy as np\n",
    "from sklearn.neural_network import MLPRegressor\n",
    "from sklearn.model_selection import train_test_split\n",
    "import matplotlib.pyplot as plt\n",
    "from sklearn.preprocessing import StandardScaler\n",
    "!pwd"
   ]
  },
  {
   "cell_type": "code",
   "execution_count": 2,
   "metadata": {},
   "outputs": [
    {
     "name": "stdout",
     "output_type": "stream",
     "text": [
      "[[1.6 ]\n",
      " [1.7 ]\n",
      " [1.8 ]\n",
      " [1.9 ]\n",
      " [2.  ]\n",
      " [2.1 ]\n",
      " [2.15]\n",
      " [2.2 ]\n",
      " [2.3 ]\n",
      " [2.5 ]\n",
      " [2.7 ]\n",
      " [2.9 ]\n",
      " [3.1 ]\n",
      " [3.3 ]\n",
      " [3.5 ]\n",
      " [3.7 ]\n",
      " [3.9 ]\n",
      " [4.1 ]\n",
      " [4.3 ]\n",
      " [4.5 ]\n",
      " [5.  ]]\n",
      "[[-112.8173434]\n",
      " [-112.9755232]\n",
      " [-113.0777218]\n",
      " [-113.1397696]\n",
      " [-113.1731713]\n",
      " [-113.186311 ]\n",
      " [-113.1872665]\n",
      " [-113.1853124]\n",
      " [-113.174653 ]\n",
      " [-113.1365499]\n",
      " [-113.0888249]\n",
      " [-113.040112 ]\n",
      " [-112.9945608]\n",
      " [-112.9539327]\n",
      " [-112.9187699]\n",
      " [-112.8890178]\n",
      " [-112.8643389]\n",
      " [-112.8442656]\n",
      " [-112.8282707]\n",
      " [-112.8158038]\n",
      " [-112.7896999]]\n"
     ]
    }
   ],
   "source": [
    "# Read the data and store them in X and y\n",
    "data = pd.read_csv(\"CO.txt\", delim_whitespace=True, header=None)\n",
    "xy_data = data.to_numpy()\n",
    "X = xy_data[:,0].reshape((-1,1))\n",
    "y = xy_data[:,1].reshape((-1,1))\n",
    "print (X)\n",
    "print (y)"
   ]
  },
  {
   "cell_type": "code",
   "execution_count": 3,
   "metadata": {},
   "outputs": [
    {
     "data": {
      "text/plain": [
       "array([ 1.313693  ,  0.19962993, -0.52015658, -0.95716031, -1.19240906,\n",
       "       -1.28495219, -1.2916818 , -1.27791904, -1.2028447 , -0.9344839 ,\n",
       "       -0.5983559 , -0.2552701 ,  0.06554779,  0.3516922 ,  0.59934441,\n",
       "        0.80888896,  0.98270288,  1.12407948,  1.23673184,  1.32453643,\n",
       "        1.50838665])"
      ]
     },
     "execution_count": 3,
     "metadata": {},
     "output_type": "execute_result"
    }
   ],
   "source": [
    "# \"Normalize\" y to have a mean of 0 and standard deviation of 1\n",
    "scaler = StandardScaler().fit(y)\n",
    "y = scaler.transform(y).flatten()\n",
    "y"
   ]
  },
  {
   "cell_type": "code",
   "execution_count": 4,
   "metadata": {},
   "outputs": [
    {
     "name": "stdout",
     "output_type": "stream",
     "text": [
      "[[3.7]\n",
      " [3.3]\n",
      " [2.7]\n",
      " [1.6]\n",
      " [2.5]\n",
      " [2.2]\n",
      " [4.3]\n",
      " [3.1]\n",
      " [4.5]\n",
      " [5. ]\n",
      " [1.7]\n",
      " [2.9]\n",
      " [4.1]\n",
      " [1.9]\n",
      " [2. ]]\n",
      "[ 0.80888896  0.3516922  -0.5983559   1.313693   -0.9344839  -1.27791904\n",
      "  1.23673184  0.06554779  1.32453643  1.50838665  0.19962993 -0.2552701\n",
      "  1.12407948 -0.95716031 -1.19240906]\n"
     ]
    }
   ],
   "source": [
    "# Split the data set to training and testing;\n",
    "X_train, X_test, y_train, y_test = train_test_split(X, y, test_size=0.25, random_state=52394)\n",
    "print (X_train)\n",
    "print (y_train)"
   ]
  },
  {
   "cell_type": "code",
   "execution_count": 5,
   "metadata": {},
   "outputs": [
    {
     "data": {
      "text/plain": [
       "MLPRegressor(activation='tanh', alpha=0.0001, batch_size='auto', beta_1=0.9,\n",
       "             beta_2=0.999, early_stopping=False, epsilon=1e-08,\n",
       "             hidden_layer_sizes=5, learning_rate='constant',\n",
       "             learning_rate_init=0.001, max_iter=200, momentum=0.9,\n",
       "             n_iter_no_change=10, nesterovs_momentum=True, power_t=0.5,\n",
       "             random_state=63941, shuffle=True, solver='lbfgs', tol=0.0001,\n",
       "             validation_fraction=0.1, verbose=False, warm_start=False)"
      ]
     },
     "execution_count": 5,
     "metadata": {},
     "output_type": "execute_result"
    }
   ],
   "source": [
    "# Create a NN regressor with 1 hidden layer and 5 neurons in the hidden layer, and then fit the model\n",
    "regressor = MLPRegressor(hidden_layer_sizes=(5), activation='tanh', solver='lbfgs', random_state=63941)\n",
    "regressor.fit(X_train, y_train)"
   ]
  },
  {
   "cell_type": "code",
   "execution_count": 6,
   "metadata": {},
   "outputs": [
    {
     "name": "stdout",
     "output_type": "stream",
     "text": [
      "Training RMSE =  0.002825475013930612  hartree\n",
      "Testing RMSE =  0.0021819288065499545  hartree\n"
     ]
    }
   ],
   "source": [
    "# Calculate the training and testing RMSE using the original scale (so inverse_transform is used here)\n",
    "train_pred = scaler.inverse_transform(regressor.predict(X_train))\n",
    "rmse = np.sqrt(np.mean(np.square(train_pred - scaler.inverse_transform(y_train))))\n",
    "print(\"Training RMSE = \", rmse, \" hartree\")\n",
    "\n",
    "test_pred = scaler.inverse_transform(regressor.predict(X_test))\n",
    "rmse = np.sqrt(np.mean(np.square(test_pred - scaler.inverse_transform(y_test))))\n",
    "print(\"Testing RMSE = \", rmse, \" hartree\")"
   ]
  },
  {
   "cell_type": "code",
   "execution_count": 7,
   "metadata": {},
   "outputs": [
    {
     "data": {
      "text/plain": [
       "[<matplotlib.lines.Line2D at 0x7fa75c897710>]"
      ]
     },
     "execution_count": 7,
     "metadata": {},
     "output_type": "execute_result"
    },
    {
     "data": {
      "image/png": "[encoded data removed]",
      "text/plain": [
       "<Figure size 432x288 with 1 Axes>"
      ]
     },
     "metadata": {
      "needs_background": "light"
     },
     "output_type": "display_data"
    }
   ],
   "source": [
    "# plot the potential from the NN fit and compare it to original data\n",
    "X_plt = np.arange(1.4, 5.5, 0.1).reshape((-1,1))\n",
    "y_plt = scaler.inverse_transform(regressor.predict(X_plt))\n",
    "plt.plot(X_plt, y_plt, \"g\", linewidth=1)                                 # NN prediction as a green line\n",
    "plt.plot(X_train, scaler.inverse_transform(y_train), \"bo\", markersize=4) # original training data as blue circle\n",
    "plt.plot(X_test, scaler.inverse_transform(y_test), \"r^\", markersize=5)   # original testing data as red triangle"
   ]
  },
  {
   "cell_type": "code",
   "execution_count": 16,
   "metadata": {},
   "outputs": [
    {
     "name": "stdout",
     "output_type": "stream",
     "text": [
      "[array([[ 2.26213284,  2.60631926, -1.15438119,  3.55103431, -0.53803466]]), array([[-6.98246955],\n",
      "       [ 1.00500386],\n",
      "       [-1.87384687],\n",
      "       [ 2.01676305],\n",
      "       [-4.6371651 ]])]\n",
      "[array([-3.23903165,  2.24023194, -1.68567945,  0.63672862,  0.93460533]), array([-0.75550194])]\n"
     ]
    }
   ],
   "source": [
    "# print the optimized weights and biases\n",
    "print(regressor.coefs_) # weights\n",
    "print(regressor.intercepts_) # biases"
   ]
  },
  {
   "cell_type": "code",
   "execution_count": 8,
   "metadata": {},
   "outputs": [
    {
     "name": "stdout",
     "output_type": "stream",
     "text": [
      "[[1.6 ]\n",
      " [1.7 ]\n",
      " [1.8 ]\n",
      " [1.9 ]\n",
      " [2.  ]\n",
      " [2.1 ]\n",
      " [2.15]\n",
      " [2.2 ]\n",
      " [2.3 ]\n",
      " [2.5 ]\n",
      " [2.7 ]\n",
      " [2.9 ]\n",
      " [3.1 ]\n",
      " [3.3 ]\n",
      " [3.5 ]\n",
      " [3.7 ]\n",
      " [3.9 ]\n",
      " [4.1 ]\n",
      " [4.3 ]\n",
      " [4.5 ]\n",
      " [5.  ]]\n",
      "[[10.06602]\n",
      " [ 5.76167]\n",
      " [ 2.98075]\n",
      " [ 1.29227]\n",
      " [ 0.38336]\n",
      " [ 0.02586]\n",
      " [ 0.     ]\n",
      " [ 0.05305]\n",
      " [ 0.34308]\n",
      " [ 1.37988]\n",
      " [ 2.67868]\n",
      " [ 4.00406]\n",
      " [ 5.24369]\n",
      " [ 6.34921]\n",
      " [ 7.30607]\n",
      " [ 8.11575]\n",
      " [ 8.78716]\n",
      " [ 9.33337]\n",
      " [ 9.76873]\n",
      " [10.10796]\n",
      " [10.81819]]\n"
     ]
    }
   ],
   "source": [
    "#redo using data in eV\n",
    "# Read the data and store them in X and y\n",
    "data = pd.read_csv(\"COeV.txt\", delim_whitespace=True, header=None)\n",
    "xy_data = data.to_numpy()\n",
    "X = xy_data[:,0].reshape((-1,1))\n",
    "y = xy_data[:,1].reshape((-1,1))\n",
    "print (X)\n",
    "print (y)"
   ]
  },
  {
   "cell_type": "code",
   "execution_count": 11,
   "metadata": {},
   "outputs": [
    {
     "data": {
      "text/plain": [
       "array([ 1.3136932 ,  0.19961904, -0.52015307, -0.95717421, -1.192423  ,\n",
       "       -1.28495301, -1.29164622, -1.27791555, -1.20284848, -0.93449854,\n",
       "       -0.5983364 , -0.25529468,  0.06555278,  0.35168919,  0.59934865,\n",
       "        0.80891422,  0.98269203,  1.12406493,  1.23674706,  1.32454833,\n",
       "        1.50837373])"
      ]
     },
     "execution_count": 11,
     "metadata": {},
     "output_type": "execute_result"
    }
   ],
   "source": [
    "# \"Normalize\" y to have a mean of 0 and standard deviation of 1\n",
    "scaler = StandardScaler().fit(y)\n",
    "y = scaler.transform(y).flatten()\n",
    "y"
   ]
  },
  {
   "cell_type": "code",
   "execution_count": 12,
   "metadata": {},
   "outputs": [
    {
     "name": "stdout",
     "output_type": "stream",
     "text": [
      "[[3.7]\n",
      " [3.3]\n",
      " [2.7]\n",
      " [1.6]\n",
      " [2.5]\n",
      " [2.2]\n",
      " [4.3]\n",
      " [3.1]\n",
      " [4.5]\n",
      " [5. ]\n",
      " [1.7]\n",
      " [2.9]\n",
      " [4.1]\n",
      " [1.9]\n",
      " [2. ]]\n",
      "[ 0.80891422  0.35168919 -0.5983364   1.3136932  -0.93449854 -1.27791555\n",
      "  1.23674706  0.06555278  1.32454833  1.50837373  0.19961904 -0.25529468\n",
      "  1.12406493 -0.95717421 -1.192423  ]\n"
     ]
    }
   ],
   "source": [
    "# Split the data set to training and testing;\n",
    "X_train, X_test, y_train, y_test = train_test_split(X, y, test_size=0.25, random_state=52394)\n",
    "print (X_train)\n",
    "print (y_train)"
   ]
  },
  {
   "cell_type": "code",
   "execution_count": 13,
   "metadata": {},
   "outputs": [
    {
     "data": {
      "text/plain": [
       "MLPRegressor(activation='tanh', alpha=0.0001, batch_size='auto', beta_1=0.9,\n",
       "             beta_2=0.999, early_stopping=False, epsilon=1e-08,\n",
       "             hidden_layer_sizes=5, learning_rate='constant',\n",
       "             learning_rate_init=0.001, max_iter=200, momentum=0.9,\n",
       "             n_iter_no_change=10, nesterovs_momentum=True, power_t=0.5,\n",
       "             random_state=63941, shuffle=True, solver='lbfgs', tol=0.0001,\n",
       "             validation_fraction=0.1, verbose=False, warm_start=False)"
      ]
     },
     "execution_count": 13,
     "metadata": {},
     "output_type": "execute_result"
    }
   ],
   "source": [
    "#use same NN but re-train\n",
    "regressor.fit(X_train, y_train)"
   ]
  },
  {
   "cell_type": "code",
   "execution_count": 14,
   "metadata": {},
   "outputs": [
    {
     "name": "stdout",
     "output_type": "stream",
     "text": [
      "Training RMSE =  0.0919241515633952  eV\n",
      "Testing RMSE =  0.09645504304718325  eV\n"
     ]
    }
   ],
   "source": [
    "# Calculate the training and testing RMSE using the original scale (so inverse_transform is used here)\n",
    "train_pred = scaler.inverse_transform(regressor.predict(X_train))\n",
    "rmse = np.sqrt(np.mean(np.square(train_pred - scaler.inverse_transform(y_train))))\n",
    "print(\"Training RMSE = \", rmse, \" eV\")\n",
    "\n",
    "test_pred = scaler.inverse_transform(regressor.predict(X_test))\n",
    "rmse = np.sqrt(np.mean(np.square(test_pred - scaler.inverse_transform(y_test))))\n",
    "print(\"Testing RMSE = \", rmse, \" eV\")"
   ]
  },
  {
   "cell_type": "code",
   "execution_count": 15,
   "metadata": {},
   "outputs": [
    {
     "data": {
      "text/plain": [
       "[<matplotlib.lines.Line2D at 0x7fa75c9e86d0>]"
      ]
     },
     "execution_count": 15,
     "metadata": {},
     "output_type": "execute_result"
    },
    {
     "data": {
      "image/png": "[encoded data removed]",
      "text/plain": [
       "<Figure size 432x288 with 1 Axes>"
      ]
     },
     "metadata": {
      "needs_background": "light"
     },
     "output_type": "display_data"
    }
   ],
   "source": [
    "# plot the potential from the NN fit and compare it to original data\n",
    "X_plt = np.arange(1.4, 5.5, 0.1).reshape((-1,1))\n",
    "y_plt = scaler.inverse_transform(regressor.predict(X_plt))\n",
    "plt.plot(X_plt, y_plt, \"g\", linewidth=1)                                 # NN prediction as a green line\n",
    "plt.plot(X_train, scaler.inverse_transform(y_train), \"bo\", markersize=4) # original training data as blue circle\n",
    "plt.plot(X_test, scaler.inverse_transform(y_test), \"r^\", markersize=5)   # original testing data as red triangle"
   ]
  },
  {
   "cell_type": "code",
   "execution_count": 17,
   "metadata": {},
   "outputs": [
    {
     "name": "stdout",
     "output_type": "stream",
     "text": [
      "[array([[ 2.26213284,  2.60631926, -1.15438119,  3.55103431, -0.53803466]]), array([[-6.98246955],\n",
      "       [ 1.00500386],\n",
      "       [-1.87384687],\n",
      "       [ 2.01676305],\n",
      "       [-4.6371651 ]])]\n",
      "[array([-3.23903165,  2.24023194, -1.68567945,  0.63672862,  0.93460533]), array([-0.75550194])]\n"
     ]
    }
   ],
   "source": [
    "# print the optimized weights and biases\n",
    "print(regressor.coefs_) # weights\n",
    "print(regressor.intercepts_) # biases"
   ]
  },
  {
   "cell_type": "code",
   "execution_count": null,
   "metadata": {},
   "outputs": [],
   "source": []
  }
 ],
 "metadata": {
  "kernelspec": {
   "display_name": "Python 3",
   "language": "python",
   "name": "python3"
  },
  "language_info": {
   "codemirror_mode": {
    "name": "ipython",
    "version": 3
   },
   "file_extension": ".py",
   "mimetype": "text/x-python",
   "name": "python",
   "nbconvert_exporter": "python",
   "pygments_lexer": "ipython3",
   "version": "3.7.4"
  }
 },
 "nbformat": 4,
 "nbformat_minor": 2
}
